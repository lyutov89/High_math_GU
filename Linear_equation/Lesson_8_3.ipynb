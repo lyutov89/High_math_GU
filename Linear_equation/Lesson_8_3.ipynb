{
 "cells": [
  {
   "cell_type": "code",
   "execution_count": 12,
   "metadata": {},
   "outputs": [
    {
     "name": "stdout",
     "output_type": "stream",
     "text": [
      "-0.3351390217789719 -1.166992342080023\n"
     ]
    },
    {
     "name": "stderr",
     "output_type": "stream",
     "text": [
      "C:\\Users\\Anatoly\\Anaconda3\\lib\\site-packages\\scipy\\optimize\\minpack.py:162: RuntimeWarning: The iteration is not making good progress, as measured by the \n",
      "  improvement from the last ten iterations.\n",
      "  warnings.warn(msg, RuntimeWarning)\n"
     ]
    }
   ],
   "source": [
    "from scipy.optimize import fsolve, broyden2\n",
    "import numpy as np\n",
    "import math\n",
    "\n",
    "def equations(p):\n",
    "    x, y = p\n",
    "    return (x*x-y*y+3*x*y*y*y-2*x*x*y*y+2*x-3*y-5, 3*y*y*y-2*x*x+2*x*x*x*y-5*x*x*y*y+5)\n",
    "\n",
    "# Численное решение системы уравнений\n",
    "x, y =  fsolve(equations, (-5, 5))\n",
    "print (x, y)\n",
    "\n",
    "#for x in np.arange (-10, 10, 2):\n",
    "#    x, info, ier, mesg =  fsolve(equations, x, full_output=True)\n",
    "#    print (float(x), ier)"
   ]
  },
  {
   "cell_type": "code",
   "execution_count": null,
   "metadata": {},
   "outputs": [],
   "source": []
  }
 ],
 "metadata": {
  "kernelspec": {
   "display_name": "Python 3",
   "language": "python",
   "name": "python3"
  },
  "language_info": {
   "codemirror_mode": {
    "name": "ipython",
    "version": 3
   },
   "file_extension": ".py",
   "mimetype": "text/x-python",
   "name": "python",
   "nbconvert_exporter": "python",
   "pygments_lexer": "ipython3",
   "version": "3.7.4"
  }
 },
 "nbformat": 4,
 "nbformat_minor": 2
}
